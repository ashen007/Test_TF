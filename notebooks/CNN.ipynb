{
 "cells": [
  {
   "cell_type": "markdown",
   "source": [
    "## Convnets\n",
    "\n",
    "convolutional networks are stack Conv2D and MaxPooling2D layers."
   ],
   "metadata": {
    "collapsed": false
   }
  },
  {
   "cell_type": "code",
   "execution_count": 3,
   "metadata": {
    "collapsed": true
   },
   "outputs": [],
   "source": [
    "from tensorflow.keras.models import Sequential\n",
    "from tensorflow.keras.layers import InputLayer, Dense, Flatten\n",
    "from tensorflow.keras.layers import Conv2D, MaxPooling2D\n",
    "from tensorflow.keras.activations import relu, softmax\n",
    "from tensorflow.keras.optimizers import RMSprop\n",
    "from tensorflow.keras.losses import CategoricalCrossentropy\n",
    "from tensorflow.keras.metrics import categorical_accuracy"
   ]
  },
  {
   "cell_type": "markdown",
   "source": [
    "### create convolutional network"
   ],
   "metadata": {
    "collapsed": false
   }
  },
  {
   "cell_type": "code",
   "execution_count": 4,
   "outputs": [],
   "source": [
    "def create_network(shape):\n",
    "    # layers\n",
    "    input_layer = InputLayer(input_shape=shape)\n",
    "    # conv layers\n",
    "    conv_1 = Conv2D(32, kernel_size=(3, 3), activation=relu)\n",
    "    max_pool_1 = MaxPooling2D(pool_size=(2, 2))\n",
    "    conv_2 = Conv2D(64, kernel_size=(3, 3), activation=relu)\n",
    "    max_pool_2 = MaxPooling2D(pool_size=(2, 2))\n",
    "    conv_3 = Conv2D(64, kernel_size=(3, 3), activation=relu)\n",
    "    flat_layer = Flatten()\n",
    "    # dense layers\n",
    "    dense_1 = Dense(units=64, activation=relu)\n",
    "    output_layer = Dense(units=10, activation=softmax)\n",
    "\n",
    "    model = Sequential([input_layer,conv_1,max_pool_1,\n",
    "                        conv_2,max_pool_2,conv_3,\n",
    "                        flat_layer,dense_1,output_layer])\n",
    "    model.compile(optimizer=RMSprop(learning_rate=0.01),\n",
    "                  loss=CategoricalCrossentropy(),\n",
    "                  metrics=[categorical_accuracy])\n",
    "\n",
    "    return model"
   ],
   "metadata": {
    "collapsed": false,
    "pycharm": {
     "name": "#%%\n"
    }
   }
  }
 ],
 "metadata": {
  "kernelspec": {
   "display_name": "Python 3",
   "language": "python",
   "name": "python3"
  },
  "language_info": {
   "codemirror_mode": {
    "name": "ipython",
    "version": 2
   },
   "file_extension": ".py",
   "mimetype": "text/x-python",
   "name": "python",
   "nbconvert_exporter": "python",
   "pygments_lexer": "ipython2",
   "version": "2.7.6"
  }
 },
 "nbformat": 4,
 "nbformat_minor": 0
}