{
 "cells": [
  {
   "cell_type": "code",
   "execution_count": 4,
   "metadata": {
    "collapsed": true
   },
   "outputs": [],
   "source": [
    "import os\n",
    "import urllib.request\n",
    "import zipfile\n",
    "\n",
    "from matplotlib import pyplot as plt"
   ]
  },
  {
   "cell_type": "code",
   "execution_count": 5,
   "outputs": [],
   "source": [
    "train_url = 'https://storage.googleapis.com/laurencemoroney-blog.appspot.com/rps.zip'\n",
    "test_url = 'https://storage.googleapis.com/laurencemoroney-blog.appspot.com/rps-test-set.zip'\n",
    "\n",
    "train_file_name = '../data/rps.zip'\n",
    "test_file_name = '../data/rps-test.zip'\n",
    "\n",
    "train_dir = '../data/rsp/training/'\n",
    "test_dir = '../data/rsp/testing/'\n",
    "\n",
    "urllib.request.urlretrieve(train_url, train_file_name)\n",
    "urllib.request.urlretrieve(test_url, test_file_name)\n",
    "\n",
    "zip_ref_train = zipfile.ZipFile(train_file_name, 'r')\n",
    "zip_ref_train.extractall(train_dir)\n",
    "zip_ref_train.close()\n",
    "\n",
    "zip_ref_test = zipfile.ZipFile(test_file_name, 'r')\n",
    "zip_ref_test.extractall(test_dir)\n",
    "zip_ref_test.close()"
   ],
   "metadata": {
    "collapsed": false,
    "pycharm": {
     "name": "#%%\n"
    }
   }
  },
  {
   "cell_type": "code",
   "execution_count": 15,
   "outputs": [
    {
     "name": "stdout",
     "output_type": "stream",
     "text": [
      "total training rock images: 840\n",
      "total training paper images: 840\n",
      "total training scissors images: 840\n"
     ]
    }
   ],
   "source": [
    "rock_dir = os.path.join('../data/rsp/training/rps/paper/')\n",
    "paper_dir = os.path.join('../data/rsp/training/rps/rock/')\n",
    "scissor_dir = os.path.join('../data/rsp/training/rps/scissors/')\n",
    "\n",
    "print('total training rock images:', len(os.listdir(rock_dir)))\n",
    "print('total training paper images:', len(os.listdir(paper_dir)))\n",
    "print('total training scissors images:', len(os.listdir(scissor_dir)))"
   ],
   "metadata": {
    "collapsed": false,
    "pycharm": {
     "name": "#%%\n"
    }
   }
  }
 ],
 "metadata": {
  "kernelspec": {
   "display_name": "Python 3",
   "language": "python",
   "name": "python3"
  },
  "language_info": {
   "codemirror_mode": {
    "name": "ipython",
    "version": 2
   },
   "file_extension": ".py",
   "mimetype": "text/x-python",
   "name": "python",
   "nbconvert_exporter": "python",
   "pygments_lexer": "ipython2",
   "version": "2.7.6"
  }
 },
 "nbformat": 4,
 "nbformat_minor": 0
}