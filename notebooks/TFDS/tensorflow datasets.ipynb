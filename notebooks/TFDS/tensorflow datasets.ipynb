{
 "cells": [
  {
   "cell_type": "code",
   "execution_count": 11,
   "metadata": {
    "collapsed": true
   },
   "outputs": [],
   "source": [
    "import numpy as np\n",
    "import tensorflow as tf\n",
    "import tensorflow_datasets as tfds"
   ]
  },
  {
   "cell_type": "markdown",
   "source": [
    "### import datasets with tensorflow datasets"
   ],
   "metadata": {
    "collapsed": false
   }
  },
  {
   "cell_type": "code",
   "execution_count": 14,
   "outputs": [],
   "source": [
    "mnist_data, info = tfds.load(name='fashion_mnist', with_info=True)"
   ],
   "metadata": {
    "collapsed": false,
    "pycharm": {
     "name": "#%%\n"
    }
   }
  },
  {
   "cell_type": "code",
   "execution_count": 3,
   "outputs": [
    {
     "name": "stdout",
     "output_type": "stream",
     "text": [
      "train\n",
      "test\n"
     ]
    }
   ],
   "source": [
    "for item in mnist_data:\n",
    "    print(item)"
   ],
   "metadata": {
    "collapsed": false,
    "pycharm": {
     "name": "#%%\n"
    }
   }
  },
  {
   "cell_type": "code",
   "execution_count": 6,
   "outputs": [
    {
     "name": "stdout",
     "output_type": "stream",
     "text": [
      "<class 'dict'>\n"
     ]
    }
   ],
   "source": [
    "print(type(mnist_data))"
   ],
   "metadata": {
    "collapsed": false,
    "pycharm": {
     "name": "#%%\n"
    }
   }
  },
  {
   "cell_type": "code",
   "execution_count": 8,
   "outputs": [
    {
     "name": "stdout",
     "output_type": "stream",
     "text": [
      "<class 'tensorflow.python.data.ops.dataset_ops.PrefetchDataset'>\n"
     ]
    }
   ],
   "source": [
    "mnist_train = tfds.load(name='fashion_mnist',\n",
    "                        split='train')\n",
    "assert isinstance(mnist_train, tf.data.Dataset)\n",
    "print(type(mnist_train))"
   ],
   "metadata": {
    "collapsed": false,
    "pycharm": {
     "name": "#%%\n"
    }
   }
  },
  {
   "cell_type": "code",
   "execution_count": 9,
   "outputs": [
    {
     "name": "stdout",
     "output_type": "stream",
     "text": [
      "<class 'dict'>\n",
      "dict_keys(['image', 'label'])\n"
     ]
    }
   ],
   "source": [
    "for item in mnist_train.take(1):\n",
    "    print(type(item))\n",
    "    print(item.keys())"
   ],
   "metadata": {
    "collapsed": false,
    "pycharm": {
     "name": "#%%\n"
    }
   }
  },
  {
   "cell_type": "code",
   "execution_count": 13,
   "outputs": [
    {
     "name": "stdout",
     "output_type": "stream",
     "text": [
      "<class 'dict'>\n",
      "dict_keys(['image', 'label'])\n",
      "[[  0   0   0   0   0   0   0   0   0  18  77 227 227 208 210 225 216  85\n",
      "   32   0   0   0   0   0   0   0   0   0]\n",
      " [  0   0   0   0   0   0   0  61 100  97  80  57 117 227 238 115  49  78\n",
      "  106 108  71   0   0   0   0   0   0   0]\n",
      " [  0   0   0   0   0   0  81 105  80  69  72  64  44  21  13  44  69  75\n",
      "   75  80 114  80   0   0   0   0   0   0]\n",
      " [  0   0   0   0   0  26  92  69  68  75  75  71  74  83  75  77  78  74\n",
      "   74  83  77 108  34   0   0   0   0   0]\n",
      " [  0   0   0   0   0  55  92  69  74  74  71  71  77  69  66  75  74  77\n",
      "   80  80  78  94  63   0   0   0   0   0]\n",
      " [  0   0   0   0   0  63  95  66  68  72  72  69  72  74  74  74  75  75\n",
      "   77  80  77 106  61   0   0   0   0   0]\n",
      " [  0   0   0   0   0  80 108  71  69  72  71  69  72  75  75  72  72  75\n",
      "   78  72  85 128  64   0   0   0   0   0]\n",
      " [  0   0   0   0   0  88 120  75  74  77  75  72  77  74  74  77  78  83\n",
      "   83  66 111 123  78   0   0   0   0   0]\n",
      " [  0   0   0   0   0  85 134  74  85  69  75  75  74  75  74  75  75  81\n",
      "   75  61 151 115  91  12   0   0   0   0]\n",
      " [  0   0   0   0  10  85 153  83  80  68  77  75  74  75  74  75  77  80\n",
      "   68  61 162 122  78   6   0   0   0   0]\n",
      " [  0   0   0   0  30  75 154  85  80  71  80  72  77  75  75  77  78  77\n",
      "   75  49 191 132  72  15   0   0   0   0]\n",
      " [  0   0   0   0  58  66 174 115  66  77  80  72  78  75  77  78  78  77\n",
      "   66  49 222 131  77  37   0   0   0   0]\n",
      " [  0   0   0   0  69  55 179 139  55  92  74  74  78  74  78  77  75  80\n",
      "   64  55 242 111  95  44   0   0   0   0]\n",
      " [  0   0   0   0  74  57 159 180  55  92  64  72  74  74  77  75  77  78\n",
      "   55  66 255  97 108  49   0   0   0   0]\n",
      " [  0   0   0   0  74  66 145 153  72  83  58  78  77  75  75  75  72  80\n",
      "   30 132 255  37 122  60   0   0   0   0]\n",
      " [  0   0   0   0  80  69 142 180 142  57  64  78  74  75  75  75  72  85\n",
      "   21 185 227  37 143  63   0   0   0   0]\n",
      " [  0   0   0   0  83  71 136 194 126  46  69  75  72  75  75  75  74  78\n",
      "   38 139 185  60 151  58   0   0   0   0]\n",
      " [  0   0   0   4  81  74 145 177  78  49  74  77  75  75  75  75  74  72\n",
      "   63  80 156 117 153  55   0   0   0   0]\n",
      " [  0   0   0  10  80  72 157 163  61  55  75  77  75  77  75  75  75  77\n",
      "   71  60  98 156 132  58   0   0   0   0]\n",
      " [  0   0   0  13  77  74 157 143  43  61  72  75  77  75  74  77  77  75\n",
      "   71  58  80 157 120  66   0   0   0   0]\n",
      " [  0   0   0  18  81  74 156 114  35  72  71  75  78  72  66  80  78  77\n",
      "   75  64  63 165 119  68   0   0   0   0]\n",
      " [  0   0   0  23  85  81 177  57  52  77  71  78  80  72  75  74  77  77\n",
      "   75  64  37 173  95  72   0   0   0   0]\n",
      " [  0   0   0  26  81  86 160  20  75  77  77  80  78  80  89  78  81  83\n",
      "   80  74  20 177  77  74   0   0   0   0]\n",
      " [  0   0   0  49  77  91 200   0  83  95  86  88  88  89  88  89  88  83\n",
      "   89  86   0 191  78  80  24   0   0   0]\n",
      " [  0   0   0  54  71 108 165   0  24  57  52  57  60  60  60  63  63  77\n",
      "   89  52   0 211  97  77  61   0   0   0]\n",
      " [  0   0   0  68  91 117 137   0   0   0   0   0   0   0   0   0   0   0\n",
      "    0   0  18 216  94  97  57   0   0   0]\n",
      " [  0   0   0  54 115 105 185   0   0   1   0   0   0   0   0   0   0   0\n",
      "    0   0   0 153  78 106  37   0   0   0]\n",
      " [  0   0   0  18  61  41 103   0   0   0   0   0   0   0   0   0   0   0\n",
      "    0   0   0 106  47  69  23   0   0   0]]\n",
      "tf.Tensor(2, shape=(), dtype=int64)\n"
     ]
    }
   ],
   "source": [
    "for item in mnist_train.take(1):\n",
    "    print(type(item))\n",
    "    print(item.keys())\n",
    "    print(np.asarray(item['image']).reshape((28, 28)))\n",
    "    print(item['label'])"
   ],
   "metadata": {
    "collapsed": false,
    "pycharm": {
     "name": "#%%\n"
    }
   }
  },
  {
   "cell_type": "code",
   "execution_count": 15,
   "outputs": [
    {
     "data": {
      "text/plain": "tfds.core.DatasetInfo(\n    name='fashion_mnist',\n    full_name='fashion_mnist/3.0.1',\n    description=\"\"\"\n    Fashion-MNIST is a dataset of Zalando's article images consisting of a training set of 60,000 examples and a test set of 10,000 examples. Each example is a 28x28 grayscale image, associated with a label from 10 classes.\n    \"\"\",\n    homepage='https://github.com/zalandoresearch/fashion-mnist',\n    data_path='C:\\\\Users\\\\hewar\\\\tensorflow_datasets\\\\fashion_mnist\\\\3.0.1',\n    download_size=29.45 MiB,\n    dataset_size=36.42 MiB,\n    features=FeaturesDict({\n        'image': Image(shape=(28, 28, 1), dtype=tf.uint8),\n        'label': ClassLabel(shape=(), dtype=tf.int64, num_classes=10),\n    }),\n    supervised_keys=('image', 'label'),\n    disable_shuffling=False,\n    splits={\n        'test': <SplitInfo num_examples=10000, num_shards=1>,\n        'train': <SplitInfo num_examples=60000, num_shards=1>,\n    },\n    citation=\"\"\"@article{DBLP:journals/corr/abs-1708-07747,\n      author    = {Han Xiao and\n                   Kashif Rasul and\n                   Roland Vollgraf},\n      title     = {Fashion-MNIST: a Novel Image Dataset for Benchmarking Machine Learning\n                   Algorithms},\n      journal   = {CoRR},\n      volume    = {abs/1708.07747},\n      year      = {2017},\n      url       = {http://arxiv.org/abs/1708.07747},\n      archivePrefix = {arXiv},\n      eprint    = {1708.07747},\n      timestamp = {Mon, 13 Aug 2018 16:47:27 +0200},\n      biburl    = {https://dblp.org/rec/bib/journals/corr/abs-1708-07747},\n      bibsource = {dblp computer science bibliography, https://dblp.org}\n    }\"\"\",\n)"
     },
     "execution_count": 15,
     "metadata": {},
     "output_type": "execute_result"
    }
   ],
   "source": [
    "info"
   ],
   "metadata": {
    "collapsed": false,
    "pycharm": {
     "name": "#%%\n"
    }
   }
  },
  {
   "cell_type": "markdown",
   "source": [
    "### tensorflow datasets with Keras"
   ],
   "metadata": {
    "collapsed": false
   }
  },
  {
   "cell_type": "code",
   "execution_count": 16,
   "outputs": [
    {
     "name": "stdout",
     "output_type": "stream",
     "text": [
      "WARNING:tensorflow:From C:\\Users\\hewar\\AppData\\Local\\Programs\\Python\\Python39\\lib\\site-packages\\tensorflow_datasets\\core\\dataset_builder.py:622: get_single_element (from tensorflow.python.data.experimental.ops.get_single_element) is deprecated and will be removed in a future version.\n",
      "Instructions for updating:\n",
      "Use `tf.data.Dataset.get_single_element()`.\n"
     ]
    },
    {
     "name": "stderr",
     "output_type": "stream",
     "text": [
      "WARNING:tensorflow:From C:\\Users\\hewar\\AppData\\Local\\Programs\\Python\\Python39\\lib\\site-packages\\tensorflow_datasets\\core\\dataset_builder.py:622: get_single_element (from tensorflow.python.data.experimental.ops.get_single_element) is deprecated and will be removed in a future version.\n",
      "Instructions for updating:\n",
      "Use `tf.data.Dataset.get_single_element()`.\n"
     ]
    }
   ],
   "source": [
    "(training_images, training_labels), (test_images, test_labels) = tfds.as_numpy(\n",
    "    tfds.load('fashion_mnist',\n",
    "              split=['train', 'test'],\n",
    "              batch_size=-1,\n",
    "              as_supervised=True))"
   ],
   "metadata": {
    "collapsed": false,
    "pycharm": {
     "name": "#%%\n"
    }
   }
  },
  {
   "cell_type": "code",
   "execution_count": 17,
   "outputs": [],
   "source": [
    "mnist_val = tfds.load(name='fashion_mnist',\n",
    "                      split='test',\n",
    "                      as_supervised=True)\n",
    "validation_batch = mnist_val.batch(32)"
   ],
   "metadata": {
    "collapsed": false,
    "pycharm": {
     "name": "#%%\n"
    }
   }
  },
  {
   "cell_type": "code",
   "execution_count": 18,
   "outputs": [
    {
     "data": {
      "text/plain": "<BatchDataset shapes: ((None, 28, 28, 1), (None,)), types: (tf.uint8, tf.int64)>"
     },
     "execution_count": 18,
     "metadata": {},
     "output_type": "execute_result"
    }
   ],
   "source": [
    "validation_batch"
   ],
   "metadata": {
    "collapsed": false,
    "pycharm": {
     "name": "#%%\n"
    }
   }
  },
  {
   "cell_type": "code",
   "execution_count": null,
   "outputs": [],
   "source": [],
   "metadata": {
    "collapsed": false,
    "pycharm": {
     "name": "#%%\n"
    }
   }
  }
 ],
 "metadata": {
  "kernelspec": {
   "display_name": "Python 3",
   "language": "python",
   "name": "python3"
  },
  "language_info": {
   "codemirror_mode": {
    "name": "ipython",
    "version": 2
   },
   "file_extension": ".py",
   "mimetype": "text/x-python",
   "name": "python",
   "nbconvert_exporter": "python",
   "pygments_lexer": "ipython2",
   "version": "2.7.6"
  }
 },
 "nbformat": 4,
 "nbformat_minor": 0
}