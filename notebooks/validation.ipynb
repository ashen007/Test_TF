{
 "cells": [
  {
   "cell_type": "markdown",
   "source": [
    "# Validation using various techniques"
   ],
   "metadata": {
    "collapsed": false
   }
  },
  {
   "cell_type": "markdown",
   "source": [
    "- K fold cross validation\n",
    "\n",
    "It consists of splitting the available data into K partitions (typically = 4 or 5), instantiating K\n",
    "identical models, and training each one on (K – 1) partitions while evaluating on the remaining partition.\n",
    "The validation score for the model used is then the average of the K validation scores obtained.\n",
    "\n",
    "<img src=\"../images/Screenshot 2021-12-16 123443.jpg\">"
   ],
   "metadata": {
    "collapsed": false
   }
  },
  {
   "cell_type": "code",
   "execution_count": 54,
   "metadata": {
    "collapsed": true
   },
   "outputs": [],
   "source": [
    "import numpy as np\n",
    "import pandas as pd\n",
    "import seaborn as sns\n",
    "\n",
    "from matplotlib import pyplot as plt\n",
    "from sklearn.model_selection import KFold\n",
    "\n",
    "from tensorflow.keras.datasets import boston_housing\n",
    "from tensorflow.keras.models import Sequential\n",
    "from tensorflow.keras.layers import InputLayer, Dense\n",
    "from tensorflow.keras.activations import relu\n",
    "from tensorflow.keras.optimizers import RMSprop\n",
    "from tensorflow.keras.losses import mean_squared_error\n",
    "from tensorflow.keras.metrics import mean_absolute_error\n",
    "from tensorflow.keras.utils import plot_model"
   ]
  },
  {
   "cell_type": "markdown",
   "source": [
    "### create model"
   ],
   "metadata": {
    "collapsed": false
   }
  },
  {
   "cell_type": "code",
   "execution_count": 55,
   "outputs": [],
   "source": [
    "def create_model(shape):\n",
    "    # layers of the neural net\n",
    "    input_layer = Dense(units=64, activation=relu, input_shape=shape)\n",
    "    hidden_1 = Dense(units=64, activation=relu)\n",
    "    output_layer = Dense(units=1)\n",
    "\n",
    "    # compilation\n",
    "    model = Sequential([input_layer, hidden_1, output_layer])\n",
    "    model.compile(optimizer=RMSprop(learning_rate=0.01),\n",
    "                  loss=mean_squared_error,\n",
    "                  metrics=[mean_absolute_error])\n",
    "\n",
    "    return model"
   ],
   "metadata": {
    "collapsed": false,
    "pycharm": {
     "name": "#%%\n"
    }
   }
  },
  {
   "cell_type": "markdown",
   "source": [
    "### training"
   ],
   "metadata": {
    "collapsed": false
   }
  },
  {
   "cell_type": "code",
   "execution_count": 42,
   "outputs": [
    {
     "data": {
      "text/plain": "((404, 13), (404,), (102, 13), (102,))"
     },
     "execution_count": 42,
     "metadata": {},
     "output_type": "execute_result"
    }
   ],
   "source": [
    "(X, Y), (test_x, test_y) = boston_housing.load_data(path='../data')\n",
    "X.shape, Y.shape, test_x.shape, test_y.shape"
   ],
   "metadata": {
    "collapsed": false,
    "pycharm": {
     "name": "#%%\n"
    }
   }
  },
  {
   "cell_type": "code",
   "execution_count": 13,
   "outputs": [
    {
     "name": "stdout",
     "output_type": "stream",
     "text": [
      "Model: \"sequential\"\n",
      "_________________________________________________________________\n",
      " Layer (type)                Output Shape              Param #   \n",
      "=================================================================\n",
      " dense (Dense)               (None, 64)                896       \n",
      "                                                                 \n",
      " dense_1 (Dense)             (None, 64)                4160      \n",
      "                                                                 \n",
      " dense_2 (Dense)             (None, 1)                 65        \n",
      "                                                                 \n",
      "=================================================================\n",
      "Total params: 5,121\n",
      "Trainable params: 5,121\n",
      "Non-trainable params: 0\n",
      "_________________________________________________________________\n"
     ]
    }
   ],
   "source": [
    "create_model(shape=(13,)).summary()"
   ],
   "metadata": {
    "collapsed": false,
    "pycharm": {
     "name": "#%%\n"
    }
   }
  },
  {
   "cell_type": "code",
   "execution_count": 20,
   "outputs": [
    {
     "name": "stdout",
     "output_type": "stream",
     "text": [
      "('You must install pydot (`pip install pydot`) and install graphviz (see instructions at https://graphviz.gitlab.io/download/) ', 'for plot_model/model_to_dot to work.')\n"
     ]
    }
   ],
   "source": [
    "plot_model(create_model(shape=(13,)))"
   ],
   "metadata": {
    "collapsed": false,
    "pycharm": {
     "name": "#%%\n"
    }
   }
  },
  {
   "cell_type": "markdown",
   "source": [
    "### cross validation"
   ],
   "metadata": {
    "collapsed": false
   }
  },
  {
   "cell_type": "code",
   "execution_count": 56,
   "outputs": [
    {
     "name": "stdout",
     "output_type": "stream",
     "text": [
      "Epoch 1/10\n",
      "303/303 [==============================] - 2s 4ms/step - loss: 909.8812 - mean_absolute_error: 12.9236 - val_loss: 71.2876 - val_mean_absolute_error: 6.0755\n",
      "Epoch 2/10\n",
      "303/303 [==============================] - 1s 4ms/step - loss: 87.0515 - mean_absolute_error: 6.5198 - val_loss: 89.5325 - val_mean_absolute_error: 6.3189\n",
      "Epoch 3/10\n",
      "303/303 [==============================] - 1s 4ms/step - loss: 72.4509 - mean_absolute_error: 6.0255 - val_loss: 524.3302 - val_mean_absolute_error: 21.4998\n",
      "Epoch 4/10\n",
      "303/303 [==============================] - 1s 4ms/step - loss: 60.4064 - mean_absolute_error: 5.5592 - val_loss: 50.6981 - val_mean_absolute_error: 4.6020\n",
      "Epoch 5/10\n",
      "303/303 [==============================] - 2s 6ms/step - loss: 58.8880 - mean_absolute_error: 5.3898 - val_loss: 72.8595 - val_mean_absolute_error: 5.5098\n",
      "Epoch 6/10\n",
      "303/303 [==============================] - 2s 7ms/step - loss: 54.9295 - mean_absolute_error: 5.3101 - val_loss: 56.3913 - val_mean_absolute_error: 5.0952\n",
      "Epoch 7/10\n",
      "303/303 [==============================] - 2s 5ms/step - loss: 50.9547 - mean_absolute_error: 5.2053 - val_loss: 50.2045 - val_mean_absolute_error: 4.6985\n",
      "Epoch 8/10\n",
      "303/303 [==============================] - 2s 5ms/step - loss: 48.6978 - mean_absolute_error: 4.9555 - val_loss: 54.3675 - val_mean_absolute_error: 5.7368\n",
      "Epoch 9/10\n",
      "303/303 [==============================] - 2s 6ms/step - loss: 49.0273 - mean_absolute_error: 4.9671 - val_loss: 44.0338 - val_mean_absolute_error: 4.7517\n",
      "Epoch 10/10\n",
      "303/303 [==============================] - 2s 6ms/step - loss: 43.1846 - mean_absolute_error: 4.7842 - val_loss: 55.9604 - val_mean_absolute_error: 5.8008\n",
      "Epoch 1/10\n",
      "303/303 [==============================] - 2s 5ms/step - loss: 482.1631 - mean_absolute_error: 10.9300 - val_loss: 78.1752 - val_mean_absolute_error: 7.0708\n",
      "Epoch 2/10\n",
      "303/303 [==============================] - 2s 5ms/step - loss: 82.5633 - mean_absolute_error: 6.2289 - val_loss: 82.1866 - val_mean_absolute_error: 7.3507\n",
      "Epoch 3/10\n",
      "303/303 [==============================] - 2s 5ms/step - loss: 74.3942 - mean_absolute_error: 5.9566 - val_loss: 70.0181 - val_mean_absolute_error: 5.5372\n",
      "Epoch 4/10\n",
      "303/303 [==============================] - 2s 6ms/step - loss: 64.2423 - mean_absolute_error: 5.6261 - val_loss: 50.1986 - val_mean_absolute_error: 5.0024\n",
      "Epoch 5/10\n",
      "303/303 [==============================] - 2s 7ms/step - loss: 61.3253 - mean_absolute_error: 5.4726 - val_loss: 51.3656 - val_mean_absolute_error: 5.6811\n",
      "Epoch 6/10\n",
      "303/303 [==============================] - 2s 6ms/step - loss: 58.0248 - mean_absolute_error: 5.3527 - val_loss: 50.4261 - val_mean_absolute_error: 4.7700\n",
      "Epoch 7/10\n",
      "303/303 [==============================] - 2s 6ms/step - loss: 50.2794 - mean_absolute_error: 5.0207 - val_loss: 119.7960 - val_mean_absolute_error: 9.4189\n",
      "Epoch 8/10\n",
      "303/303 [==============================] - 2s 6ms/step - loss: 50.4823 - mean_absolute_error: 4.9392 - val_loss: 53.4300 - val_mean_absolute_error: 5.1413\n",
      "Epoch 9/10\n",
      "303/303 [==============================] - 2s 6ms/step - loss: 46.1906 - mean_absolute_error: 4.7193 - val_loss: 50.0797 - val_mean_absolute_error: 4.7768\n",
      "Epoch 10/10\n",
      "303/303 [==============================] - 2s 5ms/step - loss: 47.9894 - mean_absolute_error: 4.8349 - val_loss: 58.3815 - val_mean_absolute_error: 5.1214\n",
      "Epoch 1/10\n",
      "303/303 [==============================] - 2s 6ms/step - loss: 497.0973 - mean_absolute_error: 12.0877 - val_loss: 56.1226 - val_mean_absolute_error: 5.9251\n",
      "Epoch 2/10\n",
      "303/303 [==============================] - 2s 6ms/step - loss: 104.9344 - mean_absolute_error: 6.8573 - val_loss: 61.1905 - val_mean_absolute_error: 5.6375\n",
      "Epoch 3/10\n",
      "303/303 [==============================] - 2s 6ms/step - loss: 76.7275 - mean_absolute_error: 6.3533 - val_loss: 59.3831 - val_mean_absolute_error: 5.0515\n",
      "Epoch 4/10\n",
      "303/303 [==============================] - 2s 5ms/step - loss: 72.5741 - mean_absolute_error: 6.0690 - val_loss: 55.7653 - val_mean_absolute_error: 4.7514\n",
      "Epoch 5/10\n",
      "303/303 [==============================] - 2s 5ms/step - loss: 67.4248 - mean_absolute_error: 5.8000 - val_loss: 248.2415 - val_mean_absolute_error: 14.3947\n",
      "Epoch 6/10\n",
      "303/303 [==============================] - 2s 7ms/step - loss: 60.2881 - mean_absolute_error: 5.4289 - val_loss: 41.9959 - val_mean_absolute_error: 4.5386\n",
      "Epoch 7/10\n",
      "303/303 [==============================] - 2s 6ms/step - loss: 56.2530 - mean_absolute_error: 5.3920 - val_loss: 66.8777 - val_mean_absolute_error: 5.5359\n",
      "Epoch 8/10\n",
      "303/303 [==============================] - 2s 6ms/step - loss: 53.1417 - mean_absolute_error: 5.2025 - val_loss: 44.3405 - val_mean_absolute_error: 5.2476\n",
      "Epoch 9/10\n",
      "303/303 [==============================] - 2s 5ms/step - loss: 52.9455 - mean_absolute_error: 5.3892 - val_loss: 43.7532 - val_mean_absolute_error: 5.1818\n",
      "Epoch 10/10\n",
      "303/303 [==============================] - 2s 6ms/step - loss: 49.1446 - mean_absolute_error: 5.1365 - val_loss: 40.3021 - val_mean_absolute_error: 4.2891\n",
      "Epoch 1/10\n",
      "303/303 [==============================] - 2s 5ms/step - loss: 480.0712 - mean_absolute_error: 11.2832 - val_loss: 79.7723 - val_mean_absolute_error: 6.3651\n",
      "Epoch 2/10\n",
      "303/303 [==============================] - 2s 5ms/step - loss: 91.2617 - mean_absolute_error: 6.6946 - val_loss: 386.0263 - val_mean_absolute_error: 18.2758\n",
      "Epoch 3/10\n",
      "303/303 [==============================] - 2s 6ms/step - loss: 83.0573 - mean_absolute_error: 6.5627 - val_loss: 66.5889 - val_mean_absolute_error: 5.7892\n",
      "Epoch 4/10\n",
      "303/303 [==============================] - 2s 6ms/step - loss: 74.1858 - mean_absolute_error: 6.1247 - val_loss: 38.7491 - val_mean_absolute_error: 4.0304\n",
      "Epoch 5/10\n",
      "303/303 [==============================] - 2s 6ms/step - loss: 69.9512 - mean_absolute_error: 5.8024 - val_loss: 37.6672 - val_mean_absolute_error: 4.5582\n",
      "Epoch 6/10\n",
      "303/303 [==============================] - 2s 6ms/step - loss: 62.5366 - mean_absolute_error: 5.5973 - val_loss: 30.2899 - val_mean_absolute_error: 3.7826\n",
      "Epoch 7/10\n",
      "303/303 [==============================] - 2s 6ms/step - loss: 58.0236 - mean_absolute_error: 5.3992 - val_loss: 33.6260 - val_mean_absolute_error: 4.1487\n",
      "Epoch 8/10\n",
      "303/303 [==============================] - 2s 6ms/step - loss: 54.8315 - mean_absolute_error: 5.6004 - val_loss: 109.7554 - val_mean_absolute_error: 9.5149\n",
      "Epoch 9/10\n",
      "303/303 [==============================] - 2s 6ms/step - loss: 52.5650 - mean_absolute_error: 5.2417 - val_loss: 46.9723 - val_mean_absolute_error: 5.9531\n",
      "Epoch 10/10\n",
      "303/303 [==============================] - 2s 6ms/step - loss: 54.9794 - mean_absolute_error: 5.4587 - val_loss: 24.8478 - val_mean_absolute_error: 3.4188\n"
     ]
    }
   ],
   "source": [
    "scores = []\n",
    "cv = KFold(n_splits=4, shuffle=True, random_state=64)\n",
    "\n",
    "for fold, (train_id, val_id) in enumerate(cv.split(X, Y)):\n",
    "    train_x, val_x = X[train_id], X[val_id]\n",
    "    train_y, val_y = Y[train_id], Y[val_id]\n",
    "\n",
    "    network = create_model(shape=(train_x.shape[1],))\n",
    "    network.fit(train_x, train_y,\n",
    "                epochs=10,\n",
    "                batch_size=1,\n",
    "                validation_data=(val_x, val_y))\n",
    "\n",
    "    predicted_y = network.predict(val_x)\n",
    "    scores.append(mean_absolute_error(val_y, predicted_y))"
   ],
   "metadata": {
    "collapsed": false,
    "pycharm": {
     "name": "#%%\n"
    }
   }
  }
 ],
 "metadata": {
  "kernelspec": {
   "display_name": "Python 3",
   "language": "python",
   "name": "python3"
  },
  "language_info": {
   "codemirror_mode": {
    "name": "ipython",
    "version": 2
   },
   "file_extension": ".py",
   "mimetype": "text/x-python",
   "name": "python",
   "nbconvert_exporter": "python",
   "pygments_lexer": "ipython2",
   "version": "2.7.6"
  }
 },
 "nbformat": 4,
 "nbformat_minor": 0
}