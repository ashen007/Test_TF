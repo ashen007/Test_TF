{
 "cells": [
  {
   "cell_type": "markdown",
   "source": [
    "# Validation using various techniques"
   ],
   "metadata": {
    "collapsed": false
   }
  },
  {
   "cell_type": "markdown",
   "source": [
    "- K fold cross validation\n",
    "\n",
    "It consists of splitting the available data into K partitions (typically = 4 or 5), instantiating K\n",
    "identical models, and training each one on (K – 1) partitions while evaluating on the remaining partition.\n",
    "The validation score for the model used is then the average of the K validation scores obtained.\n",
    "\n",
    "<img src=\"../images/Screenshot 2021-12-16 123443.jpg\">"
   ],
   "metadata": {
    "collapsed": false
   }
  },
  {
   "cell_type": "code",
   "execution_count": 2,
   "metadata": {
    "collapsed": true
   },
   "outputs": [],
   "source": [
    "import seaborn as sns\n",
    "\n",
    "from matplotlib import pyplot as plt\n",
    "from sklearn.model_selection import StratifiedKFold\n",
    "\n",
    "from tensorflow.keras.models import Sequential\n",
    "from tensorflow.keras.layers import InputLayer, Dense\n",
    "from tensorflow.keras.activations import relu\n",
    "from tensorflow.keras.optimizers import SGD\n",
    "from tensorflow.keras.losses import mean_squared_error\n",
    "from tensorflow.keras.metrics import mean_absolute_error"
   ]
  },
  {
   "cell_type": "markdown",
   "source": [
    "### create model"
   ],
   "metadata": {
    "collapsed": false
   }
  },
  {
   "cell_type": "code",
   "execution_count": null,
   "outputs": [],
   "source": [
    "def create_model(shape):\n",
    "    # layers of the neural net\n",
    "    input_layer = InputLayer(input_shape=shape)\n",
    "    hidden_1 = Dense(units=64, activation=relu)\n",
    "    hidden_2 = Dense(units=64, activation=relu)\n",
    "    output_layer = Dense(units=1)\n",
    "\n",
    "    # compilation\n",
    "    model = Sequential([input_layer, hidden_1, hidden_2, output_layer])\n",
    "    model.compile(optimizer=SGD(learning_rate=0.01, momentum=0.01),\n",
    "                  loss=mean_squared_error,\n",
    "                  metrics=[mean_absolute_error])\n",
    "\n",
    "    return model"
   ],
   "metadata": {
    "collapsed": false,
    "pycharm": {
     "name": "#%%\n"
    }
   }
  }
 ],
 "metadata": {
  "kernelspec": {
   "display_name": "Python 3",
   "language": "python",
   "name": "python3"
  },
  "language_info": {
   "codemirror_mode": {
    "name": "ipython",
    "version": 2
   },
   "file_extension": ".py",
   "mimetype": "text/x-python",
   "name": "python",
   "nbconvert_exporter": "python",
   "pygments_lexer": "ipython2",
   "version": "2.7.6"
  }
 },
 "nbformat": 4,
 "nbformat_minor": 0
}