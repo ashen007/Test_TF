{
 "cells": [
  {
   "cell_type": "code",
   "execution_count": 19,
   "outputs": [],
   "source": [
    "import os\n",
    "import shutil\n",
    "\n",
    "from tensorflow.keras.models import Sequential\n",
    "from tensorflow.keras.layers import Dense, Flatten, Conv2D, MaxPooling2D\n",
    "from tensorflow.keras.activations import relu, sigmoid\n",
    "from tensorflow.keras.optimizers import RMSprop\n",
    "from tensorflow.keras.losses import binary_crossentropy\n",
    "from tensorflow.keras.metrics import binary_accuracy\n",
    "from tensorflow.keras.preprocessing.image import ImageDataGenerator"
   ],
   "metadata": {
    "collapsed": false,
    "pycharm": {
     "name": "#%%\n"
    }
   }
  },
  {
   "cell_type": "markdown",
   "source": [
    "### preparing data into directories"
   ],
   "metadata": {
    "collapsed": false
   }
  },
  {
   "cell_type": "markdown",
   "source": [
    "Directories for the training, validation and test splits"
   ],
   "metadata": {
    "collapsed": false
   }
  },
  {
   "cell_type": "code",
   "execution_count": 2,
   "metadata": {
    "collapsed": true
   },
   "outputs": [],
   "source": [
    "full_data_dir = '../data/CatVsDogs/train'\n",
    "base_dir = '../data/cat&dogs'\n",
    "train_dir = os.path.join(base_dir, 'train')\n",
    "val_dir = os.path.join(base_dir, 'validation')\n",
    "test_dir = os.path.join(base_dir, 'test')\n",
    "\n",
    "os.mkdir(base_dir)\n",
    "os.mkdir(train_dir)\n",
    "os.mkdir(val_dir)\n",
    "os.mkdir(test_dir)"
   ]
  },
  {
   "cell_type": "markdown",
   "source": [
    "Directory with training cat pictures"
   ],
   "metadata": {
    "collapsed": false
   }
  },
  {
   "cell_type": "code",
   "execution_count": 3,
   "outputs": [],
   "source": [
    "train_cat_dir = os.path.join(train_dir, 'cat')\n",
    "os.mkdir(train_cat_dir)"
   ],
   "metadata": {
    "collapsed": false,
    "pycharm": {
     "name": "#%%\n"
    }
   }
  },
  {
   "cell_type": "markdown",
   "source": [
    "Directory with training dog pictures"
   ],
   "metadata": {
    "collapsed": false
   }
  },
  {
   "cell_type": "code",
   "execution_count": 4,
   "outputs": [],
   "source": [
    "train_dog_dir = os.path.join(train_dir, 'dog')\n",
    "os.mkdir(train_dog_dir)"
   ],
   "metadata": {
    "collapsed": false,
    "pycharm": {
     "name": "#%%\n"
    }
   }
  },
  {
   "cell_type": "markdown",
   "source": [
    "Directory with validation cat pictures"
   ],
   "metadata": {
    "collapsed": false
   }
  },
  {
   "cell_type": "code",
   "execution_count": 5,
   "outputs": [],
   "source": [
    "val_cat_dir = os.path.join(val_dir, 'cat')\n",
    "os.mkdir(val_cat_dir)"
   ],
   "metadata": {
    "collapsed": false,
    "pycharm": {
     "name": "#%%\n"
    }
   }
  },
  {
   "cell_type": "markdown",
   "source": [
    "Directory with validation dog pictures"
   ],
   "metadata": {
    "collapsed": false
   }
  },
  {
   "cell_type": "code",
   "execution_count": 6,
   "outputs": [],
   "source": [
    "val_dog_dir = os.path.join(val_dir, 'dog')\n",
    "os.mkdir(val_dog_dir)"
   ],
   "metadata": {
    "collapsed": false,
    "pycharm": {
     "name": "#%%\n"
    }
   }
  },
  {
   "cell_type": "markdown",
   "source": [
    "Directory with testing cat pictures"
   ],
   "metadata": {
    "collapsed": false
   }
  },
  {
   "cell_type": "code",
   "execution_count": 7,
   "outputs": [],
   "source": [
    "test_cat_dir = os.path.join(test_dir, 'cat')\n",
    "os.mkdir(test_cat_dir)"
   ],
   "metadata": {
    "collapsed": false,
    "pycharm": {
     "name": "#%%\n"
    }
   }
  },
  {
   "cell_type": "markdown",
   "source": [
    "Directory with testing dog pictures"
   ],
   "metadata": {
    "collapsed": false
   }
  },
  {
   "cell_type": "code",
   "execution_count": 8,
   "outputs": [],
   "source": [
    "test_dog_dir = os.path.join(test_dir, 'dog')\n",
    "os.mkdir(test_dog_dir)"
   ],
   "metadata": {
    "collapsed": false,
    "pycharm": {
     "name": "#%%\n"
    }
   }
  },
  {
   "cell_type": "markdown",
   "source": [
    "### Putting images to folders"
   ],
   "metadata": {
    "collapsed": false
   }
  },
  {
   "cell_type": "code",
   "execution_count": 9,
   "outputs": [],
   "source": [
    "fnames = ['cat.{}.jpg'.format(i) for i in range(1000)]\n",
    "\n",
    "for fname in fnames:\n",
    "    src = os.path.join(full_data_dir, fname)\n",
    "    dst = os.path.join(train_cat_dir, fname)\n",
    "    shutil.copyfile(src, dst)"
   ],
   "metadata": {
    "collapsed": false,
    "pycharm": {
     "name": "#%%\n"
    }
   }
  },
  {
   "cell_type": "code",
   "execution_count": 10,
   "outputs": [],
   "source": [
    "fnames = ['cat.{}.jpg'.format(i) for i in range(1000, 1500)]\n",
    "\n",
    "for fname in fnames:\n",
    "    src = os.path.join(full_data_dir, fname)\n",
    "    dst = os.path.join(val_cat_dir, fname)\n",
    "    shutil.copyfile(src, dst)"
   ],
   "metadata": {
    "collapsed": false,
    "pycharm": {
     "name": "#%%\n"
    }
   }
  },
  {
   "cell_type": "code",
   "execution_count": 11,
   "outputs": [],
   "source": [
    "fnames = ['cat.{}.jpg'.format(i) for i in range(1500, 2000)]\n",
    "\n",
    "for fname in fnames:\n",
    "    src = os.path.join(full_data_dir, fname)\n",
    "    dst = os.path.join(test_cat_dir, fname)\n",
    "    shutil.copyfile(src, dst)"
   ],
   "metadata": {
    "collapsed": false,
    "pycharm": {
     "name": "#%%\n"
    }
   }
  },
  {
   "cell_type": "code",
   "execution_count": 12,
   "outputs": [],
   "source": [
    "fnames = ['dog.{}.jpg'.format(i) for i in range(1000)]\n",
    "\n",
    "for fname in fnames:\n",
    "    src = os.path.join(full_data_dir, fname)\n",
    "    dst = os.path.join(train_dog_dir, fname)\n",
    "    shutil.copyfile(src, dst)"
   ],
   "metadata": {
    "collapsed": false,
    "pycharm": {
     "name": "#%%\n"
    }
   }
  },
  {
   "cell_type": "code",
   "execution_count": 13,
   "outputs": [],
   "source": [
    "fnames = ['dog.{}.jpg'.format(i) for i in range(1000, 1500)]\n",
    "\n",
    "for fname in fnames:\n",
    "    src = os.path.join(full_data_dir, fname)\n",
    "    dst = os.path.join(val_dog_dir, fname)\n",
    "    shutil.copyfile(src, dst)"
   ],
   "metadata": {
    "collapsed": false,
    "pycharm": {
     "name": "#%%\n"
    }
   }
  },
  {
   "cell_type": "code",
   "execution_count": 14,
   "outputs": [],
   "source": [
    "fnames = ['dog.{}.jpg'.format(i) for i in range(1500, 2000)]\n",
    "\n",
    "for fname in fnames:\n",
    "    src = os.path.join(full_data_dir, fname)\n",
    "    dst = os.path.join(test_dog_dir, fname)\n",
    "    shutil.copyfile(src, dst)"
   ],
   "metadata": {
    "collapsed": false,
    "pycharm": {
     "name": "#%%\n"
    }
   }
  },
  {
   "cell_type": "markdown",
   "source": [
    "### creating network"
   ],
   "metadata": {
    "collapsed": false
   }
  },
  {
   "cell_type": "code",
   "execution_count": 18,
   "outputs": [
    {
     "name": "stdout",
     "output_type": "stream",
     "text": [
      "Model: \"sequential_1\"\n",
      "_________________________________________________________________\n",
      " Layer (type)                Output Shape              Param #   \n",
      "=================================================================\n",
      " conv2d_4 (Conv2D)           (None, 148, 148, 32)      896       \n",
      "                                                                 \n",
      " max_pooling2d_4 (MaxPooling  (None, 74, 74, 32)       0         \n",
      " 2D)                                                             \n",
      "                                                                 \n",
      " conv2d_5 (Conv2D)           (None, 72, 72, 64)        18496     \n",
      "                                                                 \n",
      " max_pooling2d_5 (MaxPooling  (None, 36, 36, 64)       0         \n",
      " 2D)                                                             \n",
      "                                                                 \n",
      " conv2d_6 (Conv2D)           (None, 34, 34, 128)       73856     \n",
      "                                                                 \n",
      " max_pooling2d_6 (MaxPooling  (None, 17, 17, 128)      0         \n",
      " 2D)                                                             \n",
      "                                                                 \n",
      " conv2d_7 (Conv2D)           (None, 15, 15, 128)       147584    \n",
      "                                                                 \n",
      " max_pooling2d_7 (MaxPooling  (None, 7, 7, 128)        0         \n",
      " 2D)                                                             \n",
      "                                                                 \n",
      " flatten_1 (Flatten)         (None, 6272)              0         \n",
      "                                                                 \n",
      " dense_2 (Dense)             (None, 512)               3211776   \n",
      "                                                                 \n",
      " dense_3 (Dense)             (None, 1)                 513       \n",
      "                                                                 \n",
      "=================================================================\n",
      "Total params: 3,453,121\n",
      "Trainable params: 3,453,121\n",
      "Non-trainable params: 0\n",
      "_________________________________________________________________\n"
     ]
    }
   ],
   "source": [
    "network = Sequential()\n",
    "\n",
    "network.add(Conv2D(32, (3, 3), activation=relu, input_shape=(150, 150, 3)))\n",
    "network.add(MaxPooling2D((2, 2)))\n",
    "\n",
    "network.add(Conv2D(64, (3, 3), activation=relu))\n",
    "network.add(MaxPooling2D((2, 2)))\n",
    "\n",
    "network.add(Conv2D(128, (3, 3), activation=relu))\n",
    "network.add(MaxPooling2D((2, 2)))\n",
    "\n",
    "network.add(Conv2D(128, (3, 3), activation=relu))\n",
    "network.add(MaxPooling2D((2, 2)))\n",
    "\n",
    "network.add(Flatten())\n",
    "network.add(Dense(units=512, activation=relu))\n",
    "network.add(Dense(units=1, activation=sigmoid))\n",
    "\n",
    "network.compile(optimizer=RMSprop(),\n",
    "                loss=binary_crossentropy,\n",
    "                metrics=[binary_accuracy])\n",
    "\n",
    "network.summary()"
   ],
   "metadata": {
    "collapsed": false,
    "pycharm": {
     "name": "#%%\n"
    }
   }
  },
  {
   "cell_type": "markdown",
   "source": [
    "### Data preprocessing"
   ],
   "metadata": {
    "collapsed": false
   }
  },
  {
   "cell_type": "code",
   "execution_count": 20,
   "outputs": [
    {
     "name": "stdout",
     "output_type": "stream",
     "text": [
      "Found 2000 images belonging to 2 classes.\n",
      "Found 1000 images belonging to 2 classes.\n"
     ]
    }
   ],
   "source": [
    "# rescale all images to 0 - 1\n",
    "train_data_gen = ImageDataGenerator(rescale=1. / 255)\n",
    "test_data_gen = ImageDataGenerator(rescale=1. / 255)\n",
    "\n",
    "train_generator = train_data_gen.flow_from_directory(directory=train_dir,\n",
    "                                                     target_size=(150, 150),\n",
    "                                                     batch_size=20,\n",
    "                                                     class_mode='binary')\n",
    "validation_generator = test_data_gen.flow_from_directory(directory=val_dir,\n",
    "                                                         target_size=(150, 150),\n",
    "                                                         batch_size=20,\n",
    "                                                         class_mode='binary')"
   ],
   "metadata": {
    "collapsed": false,
    "pycharm": {
     "name": "#%%\n"
    }
   }
  },
  {
   "cell_type": "code",
   "execution_count": 21,
   "outputs": [
    {
     "name": "stderr",
     "output_type": "stream",
     "text": [
      "C:\\Users\\hewar\\AppData\\Local\\Temp/ipykernel_6436/3791249013.py:1: UserWarning: `Model.fit_generator` is deprecated and will be removed in a future version. Please use `Model.fit`, which supports generators.\n",
      "  history = network.fit_generator(generator=train_generator,\n"
     ]
    },
    {
     "name": "stdout",
     "output_type": "stream",
     "text": [
      "Epoch 1/30\n",
      "100/100 [==============================] - 30s 196ms/step - loss: 0.7605 - binary_accuracy: 0.5445 - val_loss: 0.6906 - val_binary_accuracy: 0.5160\n",
      "Epoch 2/30\n",
      "100/100 [==============================] - 10s 96ms/step - loss: 0.6767 - binary_accuracy: 0.6175 - val_loss: 0.6322 - val_binary_accuracy: 0.6450\n",
      "Epoch 3/30\n",
      "100/100 [==============================] - 10s 97ms/step - loss: 0.6124 - binary_accuracy: 0.6565 - val_loss: 0.6293 - val_binary_accuracy: 0.6630\n",
      "Epoch 4/30\n",
      "100/100 [==============================] - 9s 93ms/step - loss: 0.5605 - binary_accuracy: 0.7200 - val_loss: 1.0605 - val_binary_accuracy: 0.5920\n",
      "Epoch 5/30\n",
      "100/100 [==============================] - 10s 95ms/step - loss: 0.5373 - binary_accuracy: 0.7520 - val_loss: 0.6024 - val_binary_accuracy: 0.6940\n",
      "Epoch 6/30\n",
      "100/100 [==============================] - 9s 94ms/step - loss: 0.4754 - binary_accuracy: 0.7780 - val_loss: 0.6451 - val_binary_accuracy: 0.6990\n",
      "Epoch 7/30\n",
      "100/100 [==============================] - 11s 109ms/step - loss: 0.4299 - binary_accuracy: 0.7950 - val_loss: 0.6387 - val_binary_accuracy: 0.7370\n",
      "Epoch 8/30\n",
      "100/100 [==============================] - 10s 96ms/step - loss: 0.3868 - binary_accuracy: 0.8310 - val_loss: 0.5880 - val_binary_accuracy: 0.7210\n",
      "Epoch 9/30\n",
      "100/100 [==============================] - 11s 108ms/step - loss: 0.3153 - binary_accuracy: 0.8605 - val_loss: 0.7402 - val_binary_accuracy: 0.7400\n",
      "Epoch 10/30\n",
      "100/100 [==============================] - 10s 97ms/step - loss: 0.2662 - binary_accuracy: 0.8890 - val_loss: 0.7692 - val_binary_accuracy: 0.7400\n",
      "Epoch 11/30\n",
      "100/100 [==============================] - 10s 95ms/step - loss: 0.2080 - binary_accuracy: 0.9135 - val_loss: 0.7604 - val_binary_accuracy: 0.7460\n",
      "Epoch 12/30\n",
      "100/100 [==============================] - 10s 99ms/step - loss: 0.1597 - binary_accuracy: 0.9400 - val_loss: 1.1483 - val_binary_accuracy: 0.7420\n",
      "Epoch 13/30\n",
      "100/100 [==============================] - 10s 96ms/step - loss: 0.1328 - binary_accuracy: 0.9560 - val_loss: 1.3599 - val_binary_accuracy: 0.7260\n",
      "Epoch 14/30\n",
      "100/100 [==============================] - 10s 99ms/step - loss: 0.1014 - binary_accuracy: 0.9610 - val_loss: 1.3810 - val_binary_accuracy: 0.7180\n",
      "Epoch 15/30\n",
      "100/100 [==============================] - 10s 95ms/step - loss: 0.1060 - binary_accuracy: 0.9665 - val_loss: 1.6565 - val_binary_accuracy: 0.6900\n",
      "Epoch 16/30\n",
      "100/100 [==============================] - 10s 99ms/step - loss: 0.0762 - binary_accuracy: 0.9755 - val_loss: 1.5235 - val_binary_accuracy: 0.7260\n",
      "Epoch 17/30\n",
      "100/100 [==============================] - 10s 96ms/step - loss: 0.0752 - binary_accuracy: 0.9745 - val_loss: 1.4639 - val_binary_accuracy: 0.7140\n",
      "Epoch 18/30\n",
      "100/100 [==============================] - 10s 98ms/step - loss: 0.0578 - binary_accuracy: 0.9840 - val_loss: 1.8648 - val_binary_accuracy: 0.7250\n",
      "Epoch 19/30\n",
      "100/100 [==============================] - 10s 98ms/step - loss: 0.0882 - binary_accuracy: 0.9740 - val_loss: 1.7474 - val_binary_accuracy: 0.7270\n",
      "Epoch 20/30\n",
      "100/100 [==============================] - 10s 97ms/step - loss: 0.0630 - binary_accuracy: 0.9840 - val_loss: 2.3256 - val_binary_accuracy: 0.7190\n",
      "Epoch 21/30\n",
      "100/100 [==============================] - 10s 96ms/step - loss: 0.0869 - binary_accuracy: 0.9795 - val_loss: 2.2505 - val_binary_accuracy: 0.7220\n",
      "Epoch 22/30\n",
      "100/100 [==============================] - 10s 96ms/step - loss: 0.0544 - binary_accuracy: 0.9795 - val_loss: 2.3245 - val_binary_accuracy: 0.7360\n",
      "Epoch 23/30\n",
      "100/100 [==============================] - 10s 96ms/step - loss: 0.0522 - binary_accuracy: 0.9855 - val_loss: 1.8879 - val_binary_accuracy: 0.7520\n",
      "Epoch 24/30\n",
      "100/100 [==============================] - 10s 97ms/step - loss: 0.0463 - binary_accuracy: 0.9900 - val_loss: 3.3781 - val_binary_accuracy: 0.7060\n",
      "Epoch 25/30\n",
      "100/100 [==============================] - 10s 97ms/step - loss: 0.0701 - binary_accuracy: 0.9825 - val_loss: 2.1418 - val_binary_accuracy: 0.7190\n",
      "Epoch 26/30\n",
      "100/100 [==============================] - 10s 96ms/step - loss: 0.0399 - binary_accuracy: 0.9910 - val_loss: 2.3222 - val_binary_accuracy: 0.7010\n",
      "Epoch 27/30\n",
      "100/100 [==============================] - 10s 99ms/step - loss: 0.0383 - binary_accuracy: 0.9875 - val_loss: 3.7118 - val_binary_accuracy: 0.7450\n",
      "Epoch 28/30\n",
      "100/100 [==============================] - 10s 97ms/step - loss: 0.0657 - binary_accuracy: 0.9850 - val_loss: 2.5569 - val_binary_accuracy: 0.7300\n",
      "Epoch 29/30\n",
      "100/100 [==============================] - 10s 99ms/step - loss: 0.0972 - binary_accuracy: 0.9840 - val_loss: 2.8728 - val_binary_accuracy: 0.7240\n",
      "Epoch 30/30\n",
      "100/100 [==============================] - 10s 97ms/step - loss: 0.0364 - binary_accuracy: 0.9900 - val_loss: 3.9729 - val_binary_accuracy: 0.7200\n"
     ]
    }
   ],
   "source": [
    "history = network.fit_generator(generator=train_generator,\n",
    "                                steps_per_epoch=100,\n",
    "                                epochs=30,\n",
    "                                validation_data=validation_generator,\n",
    "                                validation_steps=50)"
   ],
   "metadata": {
    "collapsed": false,
    "pycharm": {
     "name": "#%%\n"
    }
   }
  },
  {
   "cell_type": "code",
   "execution_count": 22,
   "outputs": [],
   "source": [
    "network.save('../models/cats_and_dogs_1.h5')"
   ],
   "metadata": {
    "collapsed": false,
    "pycharm": {
     "name": "#%%\n"
    }
   }
  }
 ],
 "metadata": {
  "kernelspec": {
   "display_name": "Python 3",
   "language": "python",
   "name": "python3"
  },
  "language_info": {
   "codemirror_mode": {
    "name": "ipython",
    "version": 2
   },
   "file_extension": ".py",
   "mimetype": "text/x-python",
   "name": "python",
   "nbconvert_exporter": "python",
   "pygments_lexer": "ipython2",
   "version": "2.7.6"
  }
 },
 "nbformat": 4,
 "nbformat_minor": 0
}