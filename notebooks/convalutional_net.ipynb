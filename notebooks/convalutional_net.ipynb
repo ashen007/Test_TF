{
 "cells": [
  {
   "cell_type": "code",
   "execution_count": 1,
   "metadata": {
    "collapsed": true
   },
   "outputs": [],
   "source": [
    "import numpy as np\n",
    "import tensorflow as tf\n",
    "import seaborn as sns\n",
    "\n",
    "from matplotlib import pyplot as plt\n",
    "from tensorflow.keras import Sequential\n",
    "from tensorflow.keras.layers import Dense\n",
    "from tensorflow.keras.layers import Conv2D,MaxPool2D,Flatten"
   ]
  },
  {
   "cell_type": "markdown",
   "source": [
    "### **Convolutions**\n",
    "A convolution is simply a filter of weights that are used to multiply a pixel with its\n",
    "neighbors to get a new value for the pixel.\n",
    "\n",
    "If we then define a filter in the same 3 × 3 grid, as shown below the original values, we\n",
    "can transform that pixel by calculating a new value for it. We do this by multiplying\n",
    "the current value of each pixel in the grid by the value in the same position in the\n",
    "filter grid, and summing up the total amount. This total will be the new value for the\n",
    "current pixel. We then repeat this for all pixels in the image."
   ],
   "metadata": {
    "collapsed": false
   }
  },
  {
   "cell_type": "markdown",
   "source": [
    "### **Pooling**\n",
    "Pooling is the process of eliminating pixels in your image while maintaining the\n",
    "semantics of the content within the image. pixels in a monochrome image group them into\n",
    "2 × 2 arrays, so in this case the 16 pixels are grouped into four\n",
    "2 × 2 arrays. These are called pools. We then select the maximum value in each of the\n",
    "groups, and reassemble those into a new image. Thus, the pixels on the left are reduced\n",
    "by 75% (from 16 to 4), with the maximum value from each pool making up the new image.\n",
    "\n",
    "There are other approaches to pooling, such as min pooling, which takes the smallest pixel\n",
    "value from the pool, and average pooling, which takes the overall average value."
   ],
   "metadata": {
    "collapsed": false,
    "pycharm": {
     "name": "#%% md\n"
    }
   }
  },
  {
   "cell_type": "code",
   "execution_count": null,
   "outputs": [],
   "source": [],
   "metadata": {
    "collapsed": false,
    "pycharm": {
     "name": "#%%\n"
    }
   }
  }
 ],
 "metadata": {
  "kernelspec": {
   "display_name": "Python 3",
   "language": "python",
   "name": "python3"
  },
  "language_info": {
   "codemirror_mode": {
    "name": "ipython",
    "version": 2
   },
   "file_extension": ".py",
   "mimetype": "text/x-python",
   "name": "python",
   "nbconvert_exporter": "python",
   "pygments_lexer": "ipython2",
   "version": "2.7.6"
  }
 },
 "nbformat": 4,
 "nbformat_minor": 0
}