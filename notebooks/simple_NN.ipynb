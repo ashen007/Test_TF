{
 "cells": [
  {
   "cell_type": "code",
   "execution_count": 1,
   "metadata": {
    "collapsed": true
   },
   "outputs": [],
   "source": [
    "import numpy as np\n",
    "import tensorflow as tf\n",
    "\n",
    "from tensorflow.keras import Sequential\n",
    "from tensorflow.keras.layers import Dense"
   ]
  },
  {
   "cell_type": "markdown",
   "source": [
    "### ***most simple neural net with one layer and one neuron***\n",
    "\n",
    "When using TensorFlow, you define your layers using Sequential. Inside the Sequential, you\n",
    "then specify what each layer looks like. We only have one line inside our Sequential, so we\n",
    "have only one layer.\n",
    "\n",
    "You then define what the layer looks like using the keras. Layers API. There are lots\n",
    "of different layer types, but here we’re using a Dense layer. “Dense” means a set of\n",
    "fully (or densely) connected neurons.\n",
    "\n",
    "You can read epochs as “fit the Xs to the Ys, and try it 500 times.” So, on the first try, the\n",
    "computer will guess the relationship (i.e., something like Y = 10X + 10), and measure\n",
    "how good or bad that guess was. It will then feed those results to the optimizer, which\n",
    "will generate another guess. This process will then be repeated, with the logic being\n",
    "that the loss (or error) will go down over time, and as a result the “guess” will get bet‐\n",
    "ter and better."
   ],
   "metadata": {
    "collapsed": false
   }
  },
  {
   "cell_type": "code",
   "execution_count": 2,
   "outputs": [],
   "source": [
    "model = Sequential([Dense(units=1, input_shape=[1])])\n",
    "model.compile(optimizer='sgd', loss='mean_squared_error')"
   ],
   "metadata": {
    "collapsed": false,
    "pycharm": {
     "name": "#%%\n"
    }
   }
  },
  {
   "cell_type": "code",
   "execution_count": 5,
   "outputs": [],
   "source": [
    "xs = np.asarray([-1.0, 0.0, 1.0, 2.0, 3.0, 4.0], dtype=float)\n",
    "ys = np.asarray([-3.0, -1.0, 1.0, 3.0, 5.0, 7.0], dtype=float)\n",
    "\n"
   ],
   "metadata": {
    "collapsed": false,
    "pycharm": {
     "name": "#%%\n"
    }
   }
  }
 ],
 "metadata": {
  "kernelspec": {
   "display_name": "Python 3",
   "language": "python",
   "name": "python3"
  },
  "language_info": {
   "codemirror_mode": {
    "name": "ipython",
    "version": 2
   },
   "file_extension": ".py",
   "mimetype": "text/x-python",
   "name": "python",
   "nbconvert_exporter": "python",
   "pygments_lexer": "ipython2",
   "version": "2.7.6"
  }
 },
 "nbformat": 4,
 "nbformat_minor": 0
}